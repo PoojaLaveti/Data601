{
 "cells": [
  {
   "cell_type": "markdown",
   "id": "29b0083e",
   "metadata": {},
   "source": [
    "# Week8 Homework\n",
    "## Working with Strings\n",
    "\n",
    "The data frame contains notes taken by staff members. Your task is to clean it up to make it usable for analysis. \n",
    "\n",
    "### Tasks\n",
    "* Create start date, end date columns and populate the values (If notes don't include month or day use 1 for missing value) \n",
    "\n",
    "i.e: \n",
    "    \n",
    "    - 2018 => 2018-01-01  \n",
    "    - June 2021 => 2021-06-01  \n",
    "    - 2020 => 2020-01-01\n",
    "\n",
    "* Create phone number column (If notes don't include phone numbers, use None)\n",
    "* Create a column `duration` showing difference between start & end dates in years as a whole number\n",
    "\n",
    "Note: Choose one of the following datasets to work on based on your taste! "
   ]
  },
  {
   "cell_type": "code",
   "execution_count": null,
   "id": "2e44e5c3",
   "metadata": {},
   "outputs": [],
   "source": [
    "import pandas as pd"
   ]
  },
  {
   "cell_type": "code",
   "execution_count": null,
   "id": "bffeb956",
   "metadata": {},
   "outputs": [],
   "source": [
    "spicy = 'https://raw.githubusercontent.com/msaricaumbc/DS_Data/master/strings/hw_data_spicy.csv'\n",
    "less_spicy = 'https://raw.githubusercontent.com/msaricaumbc/DS_Data/master/strings/hw_data_less_spicy.csv'"
   ]
  },
  {
   "cell_type": "code",
   "execution_count": null,
   "id": "e80d70bc",
   "metadata": {},
   "outputs": [],
   "source": [
    "df = pd.read_csv(spicy, index_col=0)"
   ]
  },
  {
   "cell_type": "code",
   "execution_count": null,
   "id": "28e8a48a",
   "metadata": {},
   "outputs": [],
   "source": [
    "df.head()"
   ]
  },
  {
   "cell_type": "code",
   "execution_count": null,
   "id": "f9954139",
   "metadata": {},
   "outputs": [],
   "source": []
  }
 ],
 "metadata": {
  "kernelspec": {
   "display_name": "Python 3",
   "language": "python",
   "name": "python3"
  },
  "language_info": {
   "codemirror_mode": {
    "name": "ipython",
    "version": 3
   },
   "file_extension": ".py",
   "mimetype": "text/x-python",
   "name": "python",
   "nbconvert_exporter": "python",
   "pygments_lexer": "ipython3",
   "version": "3.8.8"
  },
  "toc": {
   "base_numbering": 1,
   "nav_menu": {},
   "number_sections": true,
   "sideBar": true,
   "skip_h1_title": false,
   "title_cell": "Table of Contents",
   "title_sidebar": "Contents",
   "toc_cell": false,
   "toc_position": {},
   "toc_section_display": true,
   "toc_window_display": false
  }
 },
 "nbformat": 4,
 "nbformat_minor": 5
}
