{
 "cells": [
  {
   "cell_type": "markdown",
   "metadata": {},
   "source": [
    "# Week 10 Homework\n",
    "\n",
    "Extend the following class and name this class `ModuleLister`\n",
    "\n",
    "This will find all unique modules in your homework and labs."
   ]
  },
  {
   "cell_type": "code",
   "execution_count": 1,
   "metadata": {},
   "outputs": [],
   "source": [
    "### DON'T CHANGE THIS CELL\n",
    "import os\n",
    "\n",
    "class FileProcessor:\n",
    "    \n",
    "    def __init__(self, path, file_types=['.ipynb']):\n",
    "        self.files = self.find_all_files(path, file_types)\n",
    "        print(f'{len(self.files)} file(s) found...')\n",
    "\n",
    "    \n",
    "    def find_all_files(self, path, file_types):\n",
    "        paths = []\n",
    "        for root, dirs, files in os.walk(path):\n",
    "            for file in files:\n",
    "                if any([file.endswith(ft) for ft in file_types]):\n",
    "                    path = os.path.join(root, file)\n",
    "                    # print(path)\n",
    "                    paths.append(path)\n",
    "        return paths\n",
    "    \n",
    "    def read_file(self, file_path, encoding='utf8'):\n",
    "        with open(file_path,encoding=encoding) as f:\n",
    "            return f.read()\n",
    "    \n",
    "    def start(self):\n",
    "        \"\"\"\n",
    "        Entry point for the class\n",
    "        \"\"\"\n",
    "        for file in self.files:\n",
    "            self.process_file(file)\n",
    "        \n",
    "    def process_file(self, file_path):\n",
    "        \"\"\"\n",
    "        abstract method\n",
    "        \"\"\"\n",
    "        raise NotImplemented('process_file method not implemented')"
   ]
  },
  {
   "cell_type": "code",
   "execution_count": 2,
   "metadata": {},
   "outputs": [
    {
     "name": "stdout",
     "output_type": "stream",
     "text": [
      "31 file(s) found...\n",
      "C:/Users/pooja/OneDrive/Desktop/Semester1/Introduction to DataScience 601/DATA601\\MidTerm\\MidTermProject.ipynb contains modules data\n",
      "C:/Users/pooja/OneDrive/Desktop/Semester1/Introduction to DataScience 601/DATA601\\MidTerm\\.ipynb_checkpoints\\MidTermProject-checkpoint.ipynb contains modules data\n",
      "C:/Users/pooja/OneDrive/Desktop/Semester1/Introduction to DataScience 601/DATA601\\Week02\\.ipynb_checkpoints\\HW-02-checkpoint.ipynb contains modules data\n",
      "C:/Users/pooja/OneDrive/Desktop/Semester1/Introduction to DataScience 601/DATA601\\Week03\\HW-03.ipynb contains modules data\n",
      "C:/Users/pooja/OneDrive/Desktop/Semester1/Introduction to DataScience 601/DATA601\\Week06\\hw-06.ipynb contains modules data\n",
      "C:/Users/pooja/OneDrive/Desktop/Semester1/Introduction to DataScience 601/DATA601\\Week06\\.ipynb_checkpoints\\hw-06-checkpoint.ipynb contains modules data\n",
      "C:/Users/pooja/OneDrive/Desktop/Semester1/Introduction to DataScience 601/DATA601\\Week07\\hw-07.ipynb contains modules data\n",
      "C:/Users/pooja/OneDrive/Desktop/Semester1/Introduction to DataScience 601/DATA601\\Week07\\.ipynb_checkpoints\\hw-07-checkpoint.ipynb contains modules data\n",
      "C:/Users/pooja/OneDrive/Desktop/Semester1/Introduction to DataScience 601/DATA601\\Week08\\hw-08.ipynb contains modules data\n",
      "C:/Users/pooja/OneDrive/Desktop/Semester1/Introduction to DataScience 601/DATA601\\Week09\\hw-09.ipynb contains modules data\n",
      "C:/Users/pooja/OneDrive/Desktop/Semester1/Introduction to DataScience 601/DATA601\\Week10\\week10_hw.ipynb contains modules data\n",
      "C:/Users/pooja/OneDrive/Desktop/Semester1/Introduction to DataScience 601/DATA601\\Week10\\.ipynb_checkpoints\\week10_hw-checkpoint.ipynb contains modules data\n"
     ]
    }
   ],
   "source": [
    "### your code starts here\n",
    "\n",
    "class ModuleLister(FileProcessor):\n",
    "    def __init__(self):\n",
    "        super().__init__(path='C:/Users/pooja/OneDrive/Desktop/Semester1/Introduction to DataScience 601/DATA601', file_types=['.ipynb'])\n",
    "    \n",
    "    def process_file(self, file_path):\n",
    "        try:\n",
    "            content = self.read_file(file_path)\n",
    "\n",
    "            if 'module' in content:\n",
    "                print(file_path, 'contains modules data')\n",
    "        \n",
    "        except Exception as e:\n",
    "            print('--- ERRROR', file_path, str(e))\n",
    "\n",
    "                \n",
    "ModuleLister().start()\n",
    "pass"
   ]
  },
  {
   "cell_type": "code",
   "execution_count": null,
   "metadata": {},
   "outputs": [],
   "source": []
  },
  {
   "cell_type": "code",
   "execution_count": 3,
   "metadata": {},
   "outputs": [
    {
     "ename": "TypeError",
     "evalue": "__init__() got an unexpected keyword argument 'path'",
     "output_type": "error",
     "traceback": [
      "\u001b[1;31m---------------------------------------------------------------------------\u001b[0m",
      "\u001b[1;31mTypeError\u001b[0m                                 Traceback (most recent call last)",
      "\u001b[1;32m~\\AppData\\Local\\Temp/ipykernel_14676/2366781805.py\u001b[0m in \u001b[0;36m<module>\u001b[1;34m\u001b[0m\n\u001b[1;32m----> 1\u001b[1;33m \u001b[0mprocessor\u001b[0m \u001b[1;33m=\u001b[0m \u001b[0mModuleLister\u001b[0m\u001b[1;33m(\u001b[0m\u001b[0mpath\u001b[0m\u001b[1;33m=\u001b[0m\u001b[1;34m'C:/Users/pooja/OneDrive/Desktop/Semester1/Introduction to DataScience 601/DATA601'\u001b[0m\u001b[1;33m)\u001b[0m \u001b[1;31m# change the path according to your path\u001b[0m\u001b[1;33m\u001b[0m\u001b[1;33m\u001b[0m\u001b[0m\n\u001b[0m",
      "\u001b[1;31mTypeError\u001b[0m: __init__() got an unexpected keyword argument 'path'"
     ]
    }
   ],
   "source": [
    "processor = ModuleLister(path='C:/Users/pooja/OneDrive/Desktop/Semester1/Introduction to DataScience 601/DATA601') # change the path according to your path"
   ]
  },
  {
   "cell_type": "code",
   "execution_count": null,
   "metadata": {},
   "outputs": [],
   "source": [
    "processor.start()"
   ]
  },
  {
   "cell_type": "code",
   "execution_count": null,
   "metadata": {},
   "outputs": [],
   "source": []
  }
 ],
 "metadata": {
  "kernelspec": {
   "display_name": "Python 3 (ipykernel)",
   "language": "python",
   "name": "python3"
  },
  "language_info": {
   "codemirror_mode": {
    "name": "ipython",
    "version": 3
   },
   "file_extension": ".py",
   "mimetype": "text/x-python",
   "name": "python",
   "nbconvert_exporter": "python",
   "pygments_lexer": "ipython3",
   "version": "3.9.7"
  },
  "toc": {
   "base_numbering": 1,
   "nav_menu": {},
   "number_sections": true,
   "sideBar": true,
   "skip_h1_title": false,
   "title_cell": "Table of Contents",
   "title_sidebar": "Contents",
   "toc_cell": false,
   "toc_position": {},
   "toc_section_display": true,
   "toc_window_display": false
  },
  "varInspector": {
   "cols": {
    "lenName": 16,
    "lenType": 16,
    "lenVar": 40
   },
   "kernels_config": {
    "python": {
     "delete_cmd_postfix": "",
     "delete_cmd_prefix": "del ",
     "library": "var_list.py",
     "varRefreshCmd": "print(var_dic_list())"
    },
    "r": {
     "delete_cmd_postfix": ") ",
     "delete_cmd_prefix": "rm(",
     "library": "var_list.r",
     "varRefreshCmd": "cat(var_dic_list()) "
    }
   },
   "types_to_exclude": [
    "module",
    "function",
    "builtin_function_or_method",
    "instance",
    "_Feature"
   ],
   "window_display": false
  }
 },
 "nbformat": 4,
 "nbformat_minor": 2
}
